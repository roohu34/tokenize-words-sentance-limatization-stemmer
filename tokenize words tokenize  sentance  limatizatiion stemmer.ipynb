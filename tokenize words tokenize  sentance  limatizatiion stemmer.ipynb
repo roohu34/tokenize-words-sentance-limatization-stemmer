{
 "cells": [
  {
   "cell_type": "code",
   "execution_count": 2,
   "id": "d9f34f15",
   "metadata": {},
   "outputs": [],
   "source": [
    "import pandas as pd\n",
    "import numpy as np\n",
    "import matplotlib.pyplot as plt"
   ]
  },
  {
   "cell_type": "code",
   "execution_count": 3,
   "id": "a1907412",
   "metadata": {},
   "outputs": [],
   "source": [
    "text = '''Dear besty, I hope you studied well for tomorrow’s exam. Today as I was reading, I noticed that the word “Studying” was made up of two words originally.” students dying!” Hey pal, don’t let anyone look down upon you. People like that need a high-five in the face with a chair. Next time you make fun of me, I will give your phonenumber to all the kids and tell them it is Santa’s hotline.'''"
   ]
  },
  {
   "cell_type": "code",
   "execution_count": 6,
   "id": "ea95133c",
   "metadata": {},
   "outputs": [],
   "source": [
    "from nltk import sent_tokenize"
   ]
  },
  {
   "cell_type": "code",
   "execution_count": 8,
   "id": "4e12278e",
   "metadata": {},
   "outputs": [
    {
     "data": {
      "text/plain": [
       "['Dear besty, I hope you studied well for tomorrow’s exam.',\n",
       " 'Today as I was reading, I noticed that the word “Studying” was made up of two words originally.” students dying!” Hey pal, don’t let anyone look down upon you.',\n",
       " 'People like that need a high-five in the face with a chair.',\n",
       " 'Next time you make fun of me, I will give your phonenumber to all the kids and tell them it is Santa’s hotline.']"
      ]
     },
     "execution_count": 8,
     "metadata": {},
     "output_type": "execute_result"
    }
   ],
   "source": [
    "sentences = sent_tokenize(text)\n",
    "sentences"
   ]
  },
  {
   "cell_type": "code",
   "execution_count": 10,
   "id": "f75538e2",
   "metadata": {},
   "outputs": [
    {
     "name": "stdout",
     "output_type": "stream",
     "text": [
      "Dear besty, I hope you studied well for tomorrow’s exam.\n",
      "Today as I was reading, I noticed that the word “Studying” was made up of two words originally.” students dying!” Hey pal, don’t let anyone look down upon you.\n",
      "People like that need a high-five in the face with a chair.\n",
      "Next time you make fun of me, I will give your phonenumber to all the kids and tell them it is Santa’s hotline.\n"
     ]
    }
   ],
   "source": [
    "for sent in sentences:\n",
    "    print(sent)"
   ]
  },
  {
   "cell_type": "code",
   "execution_count": 13,
   "id": "9eb9473d",
   "metadata": {},
   "outputs": [],
   "source": [
    "from nltk import word_tokenize"
   ]
  },
  {
   "cell_type": "code",
   "execution_count": 15,
   "id": "d574191b",
   "metadata": {},
   "outputs": [
    {
     "name": "stdout",
     "output_type": "stream",
     "text": [
      "['Dear', 'besty', ',', 'I', 'hope', 'you', 'studied', 'well', 'for', 'tomorrow', '’', 's', 'exam', '.']\n",
      "['Today', 'as', 'I', 'was', 'reading', ',', 'I', 'noticed', 'that', 'the', 'word', '“', 'Studying', '”', 'was', 'made', 'up', 'of', 'two', 'words', 'originally.', '”', 'students', 'dying', '!', '”', 'Hey', 'pal', ',', 'don', '’', 't', 'let', 'anyone', 'look', 'down', 'upon', 'you', '.']\n",
      "['People', 'like', 'that', 'need', 'a', 'high-five', 'in', 'the', 'face', 'with', 'a', 'chair', '.']\n",
      "['Next', 'time', 'you', 'make', 'fun', 'of', 'me', ',', 'I', 'will', 'give', 'your', 'phonenumber', 'to', 'all', 'the', 'kids', 'and', 'tell', 'them', 'it', 'is', 'Santa', '’', 's', 'hotline', '.']\n"
     ]
    }
   ],
   "source": [
    "for  sent in sentences:\n",
    "    words=word_tokenize(sent)\n",
    "    print(words)"
   ]
  },
  {
   "cell_type": "code",
   "execution_count": 26,
   "id": "f3c1cf30",
   "metadata": {},
   "outputs": [],
   "source": [
    "from nltk.stem import PorterStemmer"
   ]
  },
  {
   "cell_type": "raw",
   "id": "57005e65",
   "metadata": {},
   "source": [
    "PorterStemmer=PorterStemmer()\n",
    "for stem in words:\n",
    "    stemmed = PorterStemmer.stem(stem)\n",
    "    print(stemmed)\n"
   ]
  },
  {
   "cell_type": "code",
   "execution_count": 33,
   "id": "980679d2",
   "metadata": {},
   "outputs": [],
   "source": [
    "from nltk.stem import WordNetLemmatizer\n"
   ]
  },
  {
   "cell_type": "code",
   "execution_count": 34,
   "id": "a54b85d7",
   "metadata": {
    "scrolled": true
   },
   "outputs": [
    {
     "name": "stdout",
     "output_type": "stream",
     "text": [
      "Next\n",
      "time\n",
      "you\n",
      "make\n",
      "fun\n",
      "of\n",
      "me\n",
      ",\n",
      "I\n",
      "will\n",
      "give\n",
      "your\n",
      "phonenumber\n",
      "to\n",
      "all\n",
      "the\n",
      "kid\n",
      "and\n",
      "tell\n",
      "them\n",
      "it\n",
      "is\n",
      "Santa\n",
      "’\n",
      "s\n",
      "hotline\n",
      ".\n"
     ]
    }
   ],
   "source": [
    "lemmatizer=WordNetLemmatizer()\n",
    "for word in words:\n",
    "    lema=lemmatizer.lemmatize(word)\n",
    "    print(lema)"
   ]
  },
  {
   "cell_type": "code",
   "execution_count": 36,
   "id": "86a94886",
   "metadata": {},
   "outputs": [],
   "source": [
    "from nltk.corpus import stopwords"
   ]
  },
  {
   "cell_type": "code",
   "execution_count": 39,
   "id": "d6275bdc",
   "metadata": {},
   "outputs": [
    {
     "name": "stdout",
     "output_type": "stream",
     "text": [
      "['i', 'me', 'my', 'myself', 'we', 'our', 'ours', 'ourselves', 'you', \"you're\", \"you've\", \"you'll\", \"you'd\", 'your', 'yours', 'yourself', 'yourselves', 'he', 'him', 'his', 'himself', 'she', \"she's\", 'her', 'hers', 'herself', 'it', \"it's\", 'its', 'itself', 'they', 'them', 'their', 'theirs', 'themselves', 'what', 'which', 'who', 'whom', 'this', 'that', \"that'll\", 'these', 'those', 'am', 'is', 'are', 'was', 'were', 'be', 'been', 'being', 'have', 'has', 'had', 'having', 'do', 'does', 'did', 'doing', 'a', 'an', 'the', 'and', 'but', 'if', 'or', 'because', 'as', 'until', 'while', 'of', 'at', 'by', 'for', 'with', 'about', 'against', 'between', 'into', 'through', 'during', 'before', 'after', 'above', 'below', 'to', 'from', 'up', 'down', 'in', 'out', 'on', 'off', 'over', 'under', 'again', 'further', 'then', 'once', 'here', 'there', 'when', 'where', 'why', 'how', 'all', 'any', 'both', 'each', 'few', 'more', 'most', 'other', 'some', 'such', 'no', 'nor', 'not', 'only', 'own', 'same', 'so', 'than', 'too', 'very', 's', 't', 'can', 'will', 'just', 'don', \"don't\", 'should', \"should've\", 'now', 'd', 'll', 'm', 'o', 're', 've', 'y', 'ain', 'aren', \"aren't\", 'couldn', \"couldn't\", 'didn', \"didn't\", 'doesn', \"doesn't\", 'hadn', \"hadn't\", 'hasn', \"hasn't\", 'haven', \"haven't\", 'isn', \"isn't\", 'ma', 'mightn', \"mightn't\", 'mustn', \"mustn't\", 'needn', \"needn't\", 'shan', \"shan't\", 'shouldn', \"shouldn't\", 'wasn', \"wasn't\", 'weren', \"weren't\", 'won', \"won't\", 'wouldn', \"wouldn't\"]\n"
     ]
    }
   ],
   "source": [
    "print(stopwords.words('english'))"
   ]
  },
  {
   "cell_type": "code",
   "execution_count": null,
   "id": "58bec38a",
   "metadata": {},
   "outputs": [],
   "source": []
  }
 ],
 "metadata": {
  "kernelspec": {
   "display_name": "Python 3",
   "language": "python",
   "name": "python3"
  },
  "language_info": {
   "codemirror_mode": {
    "name": "ipython",
    "version": 3
   },
   "file_extension": ".py",
   "mimetype": "text/x-python",
   "name": "python",
   "nbconvert_exporter": "python",
   "pygments_lexer": "ipython3",
   "version": "3.8.8"
  }
 },
 "nbformat": 4,
 "nbformat_minor": 5
}
